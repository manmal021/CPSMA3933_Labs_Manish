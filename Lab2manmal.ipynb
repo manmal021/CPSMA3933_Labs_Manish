{
  "nbformat": 4,
  "nbformat_minor": 0,
  "metadata": {
    "colab": {
      "provenance": [],
      "name": "Lab2manmal.ipynb",
      "include_colab_link": true
    },
    "kernelspec": {
      "name": "python3",
      "display_name": "Python 3"
    },
    "language_info": {
      "name": "python"
    }
  },
  "cells": [
    {
      "cell_type": "markdown",
      "metadata": {
        "id": "view-in-github",
        "colab_type": "text"
      },
      "source": [
        "<a href=\"https://colab.research.google.com/github/manmal021/CPSMA3933_Labs_Manish/blob/main/Lab2manmal.ipynb\" target=\"_parent\"><img src=\"https://colab.research.google.com/assets/colab-badge.svg\" alt=\"Open In Colab\"/></a>"
      ]
    },
    {
      "cell_type": "markdown",
      "source": [
        "# LAB 2"
      ],
      "metadata": {
        "id": "jRaIKW6MbtEr"
      }
    },
    {
      "cell_type": "markdown",
      "source": [
        "## Factorials\n",
        "\n",
        "A factorial is the product of all previous numbers and is expressed with an exclamation $!$.  Thus\n",
        "$$\n",
        "3! = 3\\cdot 2\\cdot 1 = 6\n",
        "$$\n",
        "\n",
        "and\n",
        "$$\n",
        "n! = n(n-1)(n-2)\\cdots3\\cdot2\\cdot1\n",
        "$$\n",
        "\n",
        "How many zeros does $1000!$ end with?  Please do not count them in the number below as the precision may be off!"
      ],
      "metadata": {
        "id": "ABJslq5hb0Z-"
      }
    },
    {
      "cell_type": "code",
      "source": [
        "def zeros(n):\n",
        "  \"\"\"Calculates the number of trailing zeros in n!\"\"\"\n",
        "  count = 0\n",
        "  i = 5\n",
        "  while n // i >= 1:\n",
        "    count += n // i\n",
        "    i *= 5\n",
        "  return count\n",
        "\n",
        "n = 1000\n",
        "zeros = zeros(n)\n",
        "print(f\"The number of trailing zeros in {n}! is: {zeros}\")"
      ],
      "metadata": {
        "colab": {
          "base_uri": "https://localhost:8080/"
        },
        "id": "gube9RcR580o",
        "outputId": "29d43ead-8f94-4710-a419-78922ce363cc"
      },
      "execution_count": 1,
      "outputs": [
        {
          "output_type": "stream",
          "name": "stdout",
          "text": [
            "The number of trailing zeros in 1000! is: 249\n"
          ]
        }
      ]
    },
    {
      "cell_type": "markdown",
      "source": [
        "## Big Numbers\n",
        "\n",
        "The sum of the digits of the number $100^{13}-26$ is how much?"
      ],
      "metadata": {
        "id": "yZpb4Ghbc4Zo"
      }
    },
    {
      "cell_type": "code",
      "metadata": {
        "colab": {
          "base_uri": "https://localhost:8080/"
        },
        "id": "b8d1f163",
        "outputId": "1bd94f93-387b-481d-af6f-c3836f4caf18"
      },
      "source": [
        "x = 100**13 - 26\n",
        "number_str = str(x)\n",
        "digit_sum = sum(int(digit) for digit in number_str)\n",
        "\n",
        "print(f\"The number is: {x}\")\n",
        "print(f\"The sum of the digits of {x} is: {digit_sum}\")"
      ],
      "execution_count": null,
      "outputs": [
        {
          "output_type": "stream",
          "name": "stdout",
          "text": [
            "The number is: 99999999999999999999999974\n",
            "The sum of the digits of 99999999999999999999999974 is: 227\n"
          ]
        }
      ]
    },
    {
      "cell_type": "markdown",
      "source": [
        "## Handshakes\n",
        "\n",
        "Two soccer teams have just finished their game.  The two teams of 11 all shake hands and the winning team also shakes hand with each other.  How many handshakes have occured?"
      ],
      "metadata": {
        "id": "5p6sa9qZio6Z"
      }
    },
    {
      "cell_type": "markdown",
      "metadata": {
        "id": "dc0dc795"
      },
      "source": [
        "# Handshakes between teams\n",
        "\n",
        "Each player from the first team shakes hands with each player from the second team. If there are 11 players on each team, the total number of handshakes between teams is the product of the number of players on each team."
      ]
    },
    {
      "cell_type": "code",
      "metadata": {
        "colab": {
          "base_uri": "https://localhost:8080/"
        },
        "id": "862c97e2",
        "outputId": "0467033d-0bdf-4904-ae57-a3ecd8a26fb1"
      },
      "source": [
        "team1_players = 11\n",
        "team2_players = 11\n",
        "\n",
        "handshakes_between_teams = team1_players * team2_players\n",
        "print(f\"Handshakes between teams: {handshakes_between_teams}\")"
      ],
      "execution_count": null,
      "outputs": [
        {
          "output_type": "stream",
          "name": "stdout",
          "text": [
            "Handshakes between teams: 121\n"
          ]
        }
      ]
    },
    {
      "cell_type": "markdown",
      "metadata": {
        "id": "c9a4a09f"
      },
      "source": [
        "### Handshakes within the winning team\n",
        "\n",
        "The winning team (11 players) also shakes hands with each other. The number of handshakes among a group of people where everyone shakes hands with everyone else (and no one shakes their own hand or shakes hands twice with the same person) is given by the formula $n \\times (n-1) / 2$, where $n$ is the number of people."
      ]
    },
    {
      "cell_type": "code",
      "metadata": {
        "colab": {
          "base_uri": "https://localhost:8080/"
        },
        "id": "94d3529c",
        "outputId": "05de88e8-6643-4e43-b299-3fcfd4a024af"
      },
      "source": [
        "winning_team_players = 11\n",
        "\n",
        "handshakes_within_winning_team = (winning_team_players * (winning_team_players - 1)) // 2\n",
        "print(f\"Handshakes within the winning team: {handshakes_within_winning_team}\")"
      ],
      "execution_count": null,
      "outputs": [
        {
          "output_type": "stream",
          "name": "stdout",
          "text": [
            "Handshakes within the winning team: 55\n"
          ]
        }
      ]
    },
    {
      "cell_type": "markdown",
      "metadata": {
        "id": "a873d6a2"
      },
      "source": [
        "### Total Handshakes\n",
        "\n",
        "To get the total number of handshakes, we add the handshakes between teams and the handshakes within the winning team."
      ]
    },
    {
      "cell_type": "code",
      "metadata": {
        "colab": {
          "base_uri": "https://localhost:8080/"
        },
        "id": "18fc6acc",
        "outputId": "3a2a6288-1efd-4e38-f44f-d0c8d3d0d03b"
      },
      "source": [
        "total_handshakes = handshakes_between_teams + handshakes_within_winning_team\n",
        "print(f\"Total handshakes: {total_handshakes}\")"
      ],
      "execution_count": null,
      "outputs": [
        {
          "output_type": "stream",
          "name": "stdout",
          "text": [
            "Total handshakes: 176\n"
          ]
        }
      ]
    },
    {
      "cell_type": "markdown",
      "source": [
        "## Harder Handshakes\n",
        "\n",
        "Mr. Smith and his wife invited four other couples for a dinner party.  When everyone arrived, handshakes were exchanged with some of the others.  Of course no one shook hands with their spouse and nobody shook hands with the same person twice.\n",
        "\n",
        "Mr. Smith asked everyone how many times they shook hands.  He recieved a different answer from each person.\n",
        "\n",
        "How many times did Mr. Smith shake hands?"
      ],
      "metadata": {
        "id": "g4ypceUKjJrp"
      }
    },
    {
      "cell_type": "markdown",
      "source": [
        "10 people → 5 couples.\n",
        "\n",
        "No one shakes hands with themselves or their spouse → max 8 handshakes per person.\n",
        "\n",
        "Mr. Smith asks 9 others how many hands they shook — gets 9 different answers.\n",
        "\n",
        "So, handshake counts among them are 0 to 8 (all distinct).\n",
        "\n",
        "That leaves 4 unclaimed — must be Mr. Smith’s count.\n",
        "\n",
        "Answer: Mr. Smith shook hands 4 times."
      ],
      "metadata": {
        "id": "vhHZY2Gi_9hA"
      }
    }
  ]
}