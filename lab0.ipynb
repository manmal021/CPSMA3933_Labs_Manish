{
  "nbformat": 4,
  "nbformat_minor": 0,
  "metadata": {
    "colab": {
      "provenance": [],
      "authorship_tag": "ABX9TyN4jKkpPpaYTPOL2OEtR6Jd",
      "include_colab_link": true
    },
    "kernelspec": {
      "name": "python3",
      "display_name": "Python 3"
    },
    "language_info": {
      "name": "python"
    }
  },
  "cells": [
    {
      "cell_type": "markdown",
      "metadata": {
        "id": "view-in-github",
        "colab_type": "text"
      },
      "source": [
        "<a href=\"https://colab.research.google.com/github/manmal021/CPSMA3933_Labs_Manish/blob/main/lab0.ipynb\" target=\"_parent\"><img src=\"https://colab.research.google.com/assets/colab-badge.svg\" alt=\"Open In Colab\"/></a>"
      ]
    },
    {
      "cell_type": "markdown",
      "source": [
        "# Manish Malla\n",
        "## Operations Research(CPSMA-3933-01) LAB 0\n",
        "\n",
        "\n",
        "\n",
        "\n",
        "Welcome to my colab ! Below you'll find my favorite Python function.\n"
      ],
      "metadata": {
        "id": "k1OJCZ9BtWNP"
      }
    },
    {
      "cell_type": "markdown",
      "source": [
        "##  My Favorite Python Function: `len()`\n",
        "\n",
        "The `len()` function is one of my favorites because it's super simple easy  and very useful. It tells us how many items are in a list, how many characters are in a string.Here i show you a example where len function is use."
      ],
      "metadata": {
        "id": "ltm8nOSxuktw"
      }
    },
    {
      "cell_type": "code",
      "metadata": {
        "colab": {
          "base_uri": "https://localhost:8080/"
        },
        "id": "c8332679",
        "outputId": "708ce4ec-40d4-4edf-e1f6-eeb45de3e64e"
      },
      "source": [
        "my_list = [1, 2, 3, 4, 5]\n",
        "list_length = len(my_list)\n",
        "print(f\"The length of the list is: {list_length}\")\n",
        "\n",
        "my_string = \"Hello, World!\"\n",
        "string_length = len(my_string)\n",
        "print(f\"The length of the string is: {string_length}\")"
      ],
      "execution_count": 1,
      "outputs": [
        {
          "output_type": "stream",
          "name": "stdout",
          "text": [
            "The length of the list is: 5\n",
            "The length of the string is: 13\n"
          ]
        }
      ]
    },
    {
      "cell_type": "markdown",
      "source": [
        "## My Random List of 10 Numbers\n",
        "\n",
        "Here i show a way from which you can get 10 random numbers and i have included"
      ],
      "metadata": {
        "id": "3ZKIOrPqxfP4"
      }
    },
    {
      "cell_type": "code",
      "source": [
        "import random\n",
        "\n",
        "\n",
        "random_numbers = [random.randint(1, 100) for _ in range(10)]\n",
        "print(\"Random Numbers are \", random_numbers)\n",
        "\n",
        "print(\"Sum is :\", sum(random_numbers))\n",
        "print(\"Minimum is :\", min(random_numbers))\n",
        "print(\"Maximum is :\", max(random_numbers))\n",
        "print(\"Length of the list is :\", len(random_numbers))\n"
      ],
      "metadata": {
        "colab": {
          "base_uri": "https://localhost:8080/"
        },
        "id": "dGX2xUbOxz0j",
        "outputId": "5f0166b6-37ed-476a-e258-51b4da7944dd"
      },
      "execution_count": 11,
      "outputs": [
        {
          "output_type": "stream",
          "name": "stdout",
          "text": [
            "Random Numbers are  [56, 23, 21, 86, 88, 19, 32, 87, 96, 20]\n",
            "Sum is : 528\n",
            "Minimum is : 19\n",
            "Maximum is : 96\n",
            "Length of the list is : 10\n"
          ]
        }
      ]
    }
  ]
}