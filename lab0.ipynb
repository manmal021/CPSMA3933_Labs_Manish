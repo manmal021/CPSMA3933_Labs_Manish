{
  "nbformat": 4,
  "nbformat_minor": 0,
  "metadata": {
    "colab": {
      "provenance": [],
      "authorship_tag": "ABX9TyNbPtktvJYv+Eaoy07X4OOt",
      "include_colab_link": true
    },
    "kernelspec": {
      "name": "python3",
      "display_name": "Python 3"
    },
    "language_info": {
      "name": "python"
    }
  },
  "cells": [
    {
      "cell_type": "markdown",
      "metadata": {
        "id": "view-in-github",
        "colab_type": "text"
      },
      "source": [
        "<a href=\"https://colab.research.google.com/github/manmal021/CPSMA3933_Labs_Manish/blob/main/lab0.ipynb\" target=\"_parent\"><img src=\"https://colab.research.google.com/assets/colab-badge.svg\" alt=\"Open In Colab\"/></a>"
      ]
    },
    {
      "cell_type": "markdown",
      "source": [
        "# Manish Malla\n",
        "## Operations Research(CPSMA-3933-01) LAB 0\n",
        "\n",
        "\n",
        "\n",
        "\n",
        "Welcome to my colab ! Below you'll find my favorite Python function.\n"
      ],
      "metadata": {
        "id": "k1OJCZ9BtWNP"
      }
    },
    {
      "cell_type": "markdown",
      "source": [
        "##  My Favorite Python Function: `len()`\n",
        "\n",
        "The `len()` function is one of my favorites because it's super simple easy  and very useful. It tells us how many items are in a list, how many characters are in a string.Here i show you a example where len function is use."
      ],
      "metadata": {
        "id": "ltm8nOSxuktw"
      }
    },
    {
      "cell_type": "code",
      "metadata": {
        "colab": {
          "base_uri": "https://localhost:8080/"
        },
        "id": "c8332679",
        "outputId": "708ce4ec-40d4-4edf-e1f6-eeb45de3e64e"
      },
      "source": [
        "my_list = [1, 2, 3, 4, 5]\n",
        "list_length = len(my_list)\n",
        "print(f\"The length of the list is: {list_length}\")\n",
        "\n",
        "my_string = \"Hello, World!\"\n",
        "string_length = len(my_string)\n",
        "print(f\"The length of the string is: {string_length}\")"
      ],
      "execution_count": 1,
      "outputs": [
        {
          "output_type": "stream",
          "name": "stdout",
          "text": [
            "The length of the list is: 5\n",
            "The length of the string is: 13\n"
          ]
        }
      ]
    },
    {
      "cell_type": "markdown",
      "source": [
        "## My Random List of 10 Numbers\n",
        "\n",
        "Here i show a way from which you can ger 10 random numbers."
      ],
      "metadata": {
        "id": "3ZKIOrPqxfP4"
      }
    },
    {
      "cell_type": "code",
      "source": [
        "import random\n",
        "\n",
        "\n",
        "random_numbers = [random.randint(1, 100) for _ in range(10)]\n",
        "print(\"Random Numbers:\", random_numbers)\n",
        "\n",
        "print(\"Sum:\", sum(random_numbers))\n",
        "print(\"Minimum:\", min(random_numbers))\n",
        "print(\"Maximum:\", max(random_numbers))\n",
        "print(\"Length of the list:\", len(random_numbers))\n"
      ],
      "metadata": {
        "colab": {
          "base_uri": "https://localhost:8080/"
        },
        "id": "dGX2xUbOxz0j",
        "outputId": "036e2873-150f-4e02-a823-5099a33fec37"
      },
      "execution_count": 7,
      "outputs": [
        {
          "output_type": "stream",
          "name": "stdout",
          "text": [
            "Random Numbers: [14, 84, 83, 4, 46, 12, 80, 72, 85, 65]\n",
            "Sum: 545\n",
            "Minimum: 4\n",
            "Maximum: 85\n",
            "Length of the list: 10\n"
          ]
        }
      ]
    }
  ]
}