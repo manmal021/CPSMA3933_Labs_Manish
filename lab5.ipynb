{
  "nbformat": 4,
  "nbformat_minor": 0,
  "metadata": {
    "colab": {
      "provenance": [],
      "authorship_tag": "ABX9TyNJnroxlUvUVwkLUFFY+fPt",
      "include_colab_link": true
    },
    "kernelspec": {
      "name": "python3",
      "display_name": "Python 3"
    },
    "language_info": {
      "name": "python"
    }
  },
  "cells": [
    {
      "cell_type": "markdown",
      "metadata": {
        "id": "view-in-github",
        "colab_type": "text"
      },
      "source": [
        "<a href=\"https://colab.research.google.com/github/manmal021/CPSMA3933_Labs_Manish/blob/main/lab5.ipynb\" target=\"_parent\"><img src=\"https://colab.research.google.com/assets/colab-badge.svg\" alt=\"Open In Colab\"/></a>"
      ]
    },
    {
      "cell_type": "markdown",
      "source": [
        "#1\n",
        "\n",
        "   f(n) = 7f(n-1) - 10f(n-2)\n",
        "   ###\n",
        " let say fn =r^n\n",
        " ###\n",
        " r^n = 7r^(n-1)-10r^(n-2)\n",
        " ###\n",
        "( r^n)/(n-2) =( 7r^(n-1))/(n-2)-(10r^(n-2))/(n-2)\n",
        "###\n",
        "r^2 - 7r + 10 = 0\n",
        "###\n",
        "solving for r , r1= 5, r2=2\n",
        "###\n",
        "fn = a(r)^n+b(r)^n\n",
        "###\n",
        "fn= a(5)^n+b(2)^n\n",
        "###\n",
        "when n = 0 ,  f(0) = a+b=1\n",
        "###\n",
        "when n = 1 ,  f(1) = 5a+2b=3\n",
        "###\n",
        "solving of a , a= 1/3 , b = 2/3\n",
        "###\n",
        "here is the final analytical formula of f(n)\n",
        "###\n",
        "f(n) = (1/3)(5^n) + (2/3)(2^n)"
      ],
      "metadata": {
        "id": "ABBDpHFCOq0M"
      }
    },
    {
      "cell_type": "code",
      "source": [
        "def f_analytic(n):\n",
        "    return (1/3)*(5**n) + (2/3)*(2**n)\n"
      ],
      "metadata": {
        "id": "2wNRya-uYcV4"
      },
      "execution_count": 15,
      "outputs": []
    },
    {
      "cell_type": "markdown",
      "source": [
        "2. Using dynamic programming."
      ],
      "metadata": {
        "id": "hZ9GfOzHV8Bq"
      }
    },
    {
      "cell_type": "code",
      "source": [
        "def f(n):\n",
        "    if n == 0:\n",
        "        return 1\n",
        "    elif n == 1:\n",
        "        return 3\n",
        "    else:\n",
        "        return 7*f(n-1)-10*f(n-2)"
      ],
      "metadata": {
        "id": "lB4to1FgV_Xv"
      },
      "execution_count": 4,
      "outputs": []
    },
    {
      "cell_type": "code",
      "source": [
        "f(4)"
      ],
      "metadata": {
        "colab": {
          "base_uri": "https://localhost:8080/"
        },
        "id": "fj4CxyGvW4jY",
        "outputId": "bb0e69aa-d7e1-4801-827c-7681882e4475"
      },
      "execution_count": 8,
      "outputs": [
        {
          "output_type": "execute_result",
          "data": {
            "text/plain": [
              "219"
            ]
          },
          "metadata": {},
          "execution_count": 8
        }
      ]
    },
    {
      "cell_type": "markdown",
      "source": [
        "3. using memoization"
      ],
      "metadata": {
        "id": "pX6gWBq5XSHI"
      }
    },
    {
      "cell_type": "code",
      "metadata": {
        "id": "7f2067b7"
      },
      "source": [
        "def f_memo(n, memo={}):\n",
        "    if n in memo:\n",
        "        return memo[n]\n",
        "    if n == 0:\n",
        "        return 1\n",
        "    elif n == 1:\n",
        "        return 3\n",
        "    else:\n",
        "        memo[n] = 7 * f_memo(n - 1, memo) - 10 * f_memo(n - 2, memo)\n",
        "        return memo[n]"
      ],
      "execution_count": 9,
      "outputs": []
    },
    {
      "cell_type": "code",
      "source": [
        "f_memo(4)"
      ],
      "metadata": {
        "colab": {
          "base_uri": "https://localhost:8080/"
        },
        "id": "wm_uxV0DXfwS",
        "outputId": "51bf4e07-4e49-4697-a177-3a152e05528b"
      },
      "execution_count": 11,
      "outputs": [
        {
          "output_type": "execute_result",
          "data": {
            "text/plain": [
              "219"
            ]
          },
          "metadata": {},
          "execution_count": 11
        }
      ]
    },
    {
      "cell_type": "code",
      "source": [
        "for i in range(10):\n",
        "    print(f\"n={i:2d} | Analytic={f_analytic(i):.0f} | DP={f(i)} | Memo={f_memo(i)}\")\n"
      ],
      "metadata": {
        "colab": {
          "base_uri": "https://localhost:8080/"
        },
        "id": "4l9peySBYltu",
        "outputId": "674c84fb-edba-48a2-95f7-3491d5824d0f"
      },
      "execution_count": 16,
      "outputs": [
        {
          "output_type": "stream",
          "name": "stdout",
          "text": [
            "n= 0 | Analytic=1 | DP=1 | Memo=1\n",
            "n= 1 | Analytic=3 | DP=3 | Memo=3\n",
            "n= 2 | Analytic=11 | DP=11 | Memo=11\n",
            "n= 3 | Analytic=47 | DP=47 | Memo=47\n",
            "n= 4 | Analytic=219 | DP=219 | Memo=219\n",
            "n= 5 | Analytic=1063 | DP=1063 | Memo=1063\n",
            "n= 6 | Analytic=5251 | DP=5251 | Memo=5251\n",
            "n= 7 | Analytic=26127 | DP=26127 | Memo=26127\n",
            "n= 8 | Analytic=130379 | DP=130379 | Memo=130379\n",
            "n= 9 | Analytic=651383 | DP=651383 | Memo=651383\n"
          ]
        }
      ]
    },
    {
      "cell_type": "markdown",
      "source": [
        "- **Analytic Method:**\n",
        "  - Very fast (constant-time computation).\n",
        "  - Needs algebraic derivation.\n",
        "  - Best for very large n (like n=1000).\n",
        "\n",
        "- **Dynamic Programming:**\n",
        "  - Efficient (O(n)).\n",
        "  - Easy to implement.\n",
        "  - Uses memory for list storage.\n",
        "\n",
        "- **Memoization:**\n",
        "  - Recursive but optimized with caching.\n",
        "  - Easier conceptually, less efficient than iterative DP.\n",
        "\n",
        "**Time Complexity Comparison:**\n",
        "- Analytic: O(1)\n",
        "- Dynamic Programming: O(n)\n",
        "- Memoization: O(n)\n"
      ],
      "metadata": {
        "id": "KrsCXvCbXx-X"
      }
    },
    {
      "cell_type": "code",
      "source": [
        "n = 1000\n",
        "print(\"Analytic:\", f_analytic(n))\n",
        "print(\"DP:\", f(n))\n",
        "print(\"Memo:\", f_memo(n))\n"
      ],
      "metadata": {
        "colab": {
          "base_uri": "https://localhost:8080/",
          "height": 263
        },
        "id": "kajrbpt6YyiL",
        "outputId": "71ecdd16-56df-4a6b-8a8d-958707832530"
      },
      "execution_count": 17,
      "outputs": [
        {
          "output_type": "error",
          "ename": "OverflowError",
          "evalue": "int too large to convert to float",
          "traceback": [
            "\u001b[0;31m---------------------------------------------------------------------------\u001b[0m",
            "\u001b[0;31mOverflowError\u001b[0m                             Traceback (most recent call last)",
            "\u001b[0;32m/tmp/ipython-input-821130453.py\u001b[0m in \u001b[0;36m<cell line: 0>\u001b[0;34m()\u001b[0m\n\u001b[1;32m      1\u001b[0m \u001b[0mn\u001b[0m \u001b[0;34m=\u001b[0m \u001b[0;36m1000\u001b[0m\u001b[0;34m\u001b[0m\u001b[0;34m\u001b[0m\u001b[0m\n\u001b[0;32m----> 2\u001b[0;31m \u001b[0mprint\u001b[0m\u001b[0;34m(\u001b[0m\u001b[0;34m\"Analytic:\"\u001b[0m\u001b[0;34m,\u001b[0m \u001b[0mf_analytic\u001b[0m\u001b[0;34m(\u001b[0m\u001b[0mn\u001b[0m\u001b[0;34m)\u001b[0m\u001b[0;34m)\u001b[0m\u001b[0;34m\u001b[0m\u001b[0;34m\u001b[0m\u001b[0m\n\u001b[0m\u001b[1;32m      3\u001b[0m \u001b[0mprint\u001b[0m\u001b[0;34m(\u001b[0m\u001b[0;34m\"DP:\"\u001b[0m\u001b[0;34m,\u001b[0m \u001b[0mf\u001b[0m\u001b[0;34m(\u001b[0m\u001b[0mn\u001b[0m\u001b[0;34m)\u001b[0m\u001b[0;34m)\u001b[0m\u001b[0;34m\u001b[0m\u001b[0;34m\u001b[0m\u001b[0m\n\u001b[1;32m      4\u001b[0m \u001b[0mprint\u001b[0m\u001b[0;34m(\u001b[0m\u001b[0;34m\"Memo:\"\u001b[0m\u001b[0;34m,\u001b[0m \u001b[0mf_memo\u001b[0m\u001b[0;34m(\u001b[0m\u001b[0mn\u001b[0m\u001b[0;34m)\u001b[0m\u001b[0;34m)\u001b[0m\u001b[0;34m\u001b[0m\u001b[0;34m\u001b[0m\u001b[0m\n",
            "\u001b[0;32m/tmp/ipython-input-3706505684.py\u001b[0m in \u001b[0;36mf_analytic\u001b[0;34m(n)\u001b[0m\n\u001b[1;32m      1\u001b[0m \u001b[0;32mdef\u001b[0m \u001b[0mf_analytic\u001b[0m\u001b[0;34m(\u001b[0m\u001b[0mn\u001b[0m\u001b[0;34m)\u001b[0m\u001b[0;34m:\u001b[0m\u001b[0;34m\u001b[0m\u001b[0;34m\u001b[0m\u001b[0m\n\u001b[0;32m----> 2\u001b[0;31m     \u001b[0;32mreturn\u001b[0m \u001b[0;34m(\u001b[0m\u001b[0;36m1\u001b[0m\u001b[0;34m/\u001b[0m\u001b[0;36m3\u001b[0m\u001b[0;34m)\u001b[0m\u001b[0;34m*\u001b[0m\u001b[0;34m(\u001b[0m\u001b[0;36m5\u001b[0m\u001b[0;34m**\u001b[0m\u001b[0mn\u001b[0m\u001b[0;34m)\u001b[0m \u001b[0;34m+\u001b[0m \u001b[0;34m(\u001b[0m\u001b[0;36m2\u001b[0m\u001b[0;34m/\u001b[0m\u001b[0;36m3\u001b[0m\u001b[0;34m)\u001b[0m\u001b[0;34m*\u001b[0m\u001b[0;34m(\u001b[0m\u001b[0;36m2\u001b[0m\u001b[0;34m**\u001b[0m\u001b[0mn\u001b[0m\u001b[0;34m)\u001b[0m\u001b[0;34m\u001b[0m\u001b[0;34m\u001b[0m\u001b[0m\n\u001b[0m",
            "\u001b[0;31mOverflowError\u001b[0m: int too large to convert to float"
          ]
        }
      ]
    }
  ]
}